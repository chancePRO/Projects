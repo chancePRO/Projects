{
  "nbformat": 4,
  "nbformat_minor": 0,
  "metadata": {
    "colab": {
      "provenance": []
    },
    "kernelspec": {
      "name": "python3",
      "display_name": "Python 3"
    },
    "language_info": {
      "name": "python"
    }
  },
  "cells": [
    {
      "cell_type": "markdown",
      "source": [
        "# Optimization Project: Optimizing the U of A Ranch Horse Team Schedule\n",
        "\n",
        "by: Myli Brown, Jordan Shortt, Chance Pickett"
      ],
      "metadata": {
        "id": "P6pxGCiuBx_P"
      }
    },
    {
      "cell_type": "markdown",
      "source": [
        "## The Problem\n",
        "We are optimizing the U of A Ranch Horse Team's Schedule.\n",
        "\n",
        "There are 5 different shows that the team can attend:\n",
        "\n",
        "*   SHTX Bryan\n",
        "*   SHTX World\n",
        "*   NRCHA\n",
        "*   Bridles and Brains\n",
        "*   NIRSHA\n",
        "\n",
        "There are 6 members of the U of A Ranch Horse Team:\n",
        "*   Jordan\n",
        "*   Justine\n",
        "*   Kate\n",
        "*   Alex\n",
        "*   Carson\n",
        "*   Morgan\n",
        "\n",
        "\n",
        "\n",
        "For each of these shows, there are a certain number of competitors that can attend, and only a certain number of atendees can score points for the team.\n",
        "\n",
        "Our overall goal is to optimize the team's score throughout the season.\n",
        "We are also ensuring that we minimize costs while ensuring a high team score.\n",
        "\n",
        "We have collected data about the predicted scores for each of the team members for each of the events as well as data about the cost of the shows."
      ],
      "metadata": {
        "id": "TAnaahFiChLf"
      }
    },
    {
      "cell_type": "markdown",
      "source": [
        "  -Our data is all encoded below, so there isn't a need to import a dataset to run this code -"
      ],
      "metadata": {
        "id": "B4UazOyq7PxL"
      }
    },
    {
      "cell_type": "code",
      "execution_count": null,
      "metadata": {
        "id": "LbQUdC9_sHCD"
      },
      "outputs": [],
      "source": [
        "# Imports\n",
        "import pyomo.environ as pyo # pyomo"
      ]
    },
    {
      "cell_type": "markdown",
      "source": [
        "### Indices:"
      ],
      "metadata": {
        "id": "q65YER1gFl5L"
      }
    },
    {
      "cell_type": "code",
      "source": [
        "#  Indices\n",
        "\n",
        "I = [1, 2, 3, 4, 5] # shows\n",
        "'''\n",
        "  1: SHTX Bryan\n",
        "  2: SHTX World\n",
        "  3: NRCHA\n",
        "  4: Bridles and Brains\n",
        "  5: NIRSHA\n",
        "'''\n",
        "\n",
        "J = [1, 2, 3, 4, 5, 6] # team members\n",
        "'''\n",
        "  1: Jordan\n",
        "  2: Justine\n",
        "  3: Kate\n",
        "  4: Alex\n",
        "  5: Carson\n",
        "  6: Morgan\n",
        "'''\n",
        "\n",
        "show_names = {1: \"SHTX Bryan\",\n",
        "              2: \"SHTX World\",\n",
        "              3: \"NRCHA\",\n",
        "              4: \"Bridles and Brains\",\n",
        "              5: \"NIRSHA\"}\n",
        "\n",
        "rider_names = {1: \"Jordan\",\n",
        "               2: \"Justine\",\n",
        "               3: \"Kate\",\n",
        "               4: \"Alex\",\n",
        "               5: \"Carson\",\n",
        "               6: \"Morgan\"}"
      ],
      "metadata": {
        "id": "C-OZrKyOs0Ls"
      },
      "execution_count": null,
      "outputs": []
    },
    {
      "cell_type": "markdown",
      "source": [
        "### Parameters:"
      ],
      "metadata": {
        "id": "bA-PlCo0Fho-"
      }
    },
    {
      "cell_type": "code",
      "source": [
        "# Parameters\n",
        "ro = 120  # rent fee for truck\n",
        "rn =  55 # rent fee for traverse\n",
        "\n",
        "do = 12 #Miles per gallon for the truck\n",
        "dn = 27 #Miles per gallon for the traverse\n",
        "\n",
        "h = {1: 240,  # cost of hotel room per night for each show\n",
        "     2: 147,\n",
        "     3: 215,\n",
        "     4: 215,\n",
        "     5: 94}\n",
        "\n",
        "p = {1: 4,   #Number of nights in the hotel for each show\n",
        "     2: 5,\n",
        "     3: 2,\n",
        "     4: 3,\n",
        "     5: 4}\n",
        "\n",
        "q = {1: 200,  # entry fee per person for each show\n",
        "     2: 200,\n",
        "     3: 100,\n",
        "     4: 200,\n",
        "     5: 265}\n",
        "\n",
        "t = {1: 35,  # stalling fee per horse for each show\n",
        "     2: 35,\n",
        "     3: 330,\n",
        "     4: 0,\n",
        "     5: 25}\n",
        "\n",
        "g = 3 #approximate gas price per gallon\n",
        "\n",
        "l = {1: len(J),  # show limit for each show\n",
        "     2: len(J),\n",
        "     3: 3,\n",
        "     4: 4,\n",
        "     5: len(J)}\n",
        "\n",
        "a = {1: 479,  # miles driven for each show\n",
        "     2: 496,\n",
        "     3: 361,\n",
        "     4: 361,\n",
        "     5: 471}\n",
        "\n",
        "k = {1: 4,    # number of team members that can earn points for each show\n",
        "     2: 4,\n",
        "     3: 3,\n",
        "     4: 4,\n",
        "     5: 4}\n",
        "\n",
        "c = 30000 #Max cost for the season ($5000 funding each member raises * 6 team members)\n",
        "\n",
        "x = {(1, 1): 289, (1, 2): 281, (1, 3): 291, (1, 4): 273, (1, 5): 273, (1, 6): 281,  # (Show number (i), Team member (j)) : Total points member j scored at show i.\n",
        "     (2, 1): 289, (2, 2): 281, (2, 3): 291, (2, 4): 273, (2, 5): 273, (2, 6): 281,\n",
        "     (3, 1): 145, (3, 2): 137, (3, 3): 145, (3, 4): 136, (3, 5): 130, (3, 6): 137,\n",
        "     (4, 1): 331, (4, 2): 338, (4, 3): 325, (4, 4): 287, (4, 5): 316, (4, 6): 247,\n",
        "     (5, 1): 289, (5, 2): 281, (5, 3): 291, (5, 4): 273, (5, 5): 273, (5, 6): 281}\n",
        "\n",
        "# Team member genders (1 for female, 0 for male)\n",
        "e = {1: 1,  # Jordan (female)\n",
        "     2: 1,  # Justine (female)\n",
        "     3: 1,  # Kate (female)\n",
        "     4: 0,  # Alex (male)\n",
        "     5: 1,  # Carson (female)\n",
        "     6: 1}  # Morgan (female)"
      ],
      "metadata": {
        "id": "lMt4mwNbvaly"
      },
      "execution_count": null,
      "outputs": []
    },
    {
      "cell_type": "markdown",
      "source": [
        "### Decision Variables:\n",
        "\n",
        "$$b_{ij} = \\text{binary variable for whether team member j's score was counted in show i (Binary)}$$\n",
        "$$s_{ij} = \\text{binary variable for whether team member j's competed in show i (Binary)}$$\n",
        "$$o_i = \\text{number of trucks needed for show i (Integer)}$$\n",
        "$$n_i = \\text{number of traverses needed for show i (Integer)}$$\n",
        "$$f_i = \\text{number of females in show i (Integer)}$$\n",
        "$$m_i = \\text{number of males in show i (Integer)}$$\n",
        "$$y_i = \\text{total number of female hotel rooms to purchase for show i (Integer)}$$\n",
        "$$w_i = \\text{total number of male hotel rooms to purchase for show i (Integer)}$$\n",
        "$$z_i = \\text{total number of hotel rooms to purchase for show i (Integer)}$$"
      ],
      "metadata": {
        "id": "Qej6pjdAFSya"
      }
    },
    {
      "cell_type": "markdown",
      "source": [
        "### Define the Model:"
      ],
      "metadata": {
        "id": "5AlgwxSH_7dB"
      }
    },
    {
      "cell_type": "code",
      "source": [
        "# Define pyo model\n",
        "model = pyo.ConcreteModel()\n",
        "model.clear()\n",
        "\n",
        "# Define index sets for shows and team members\n",
        "model.I = pyo.Set(initialize=I)  # shows\n",
        "model.J = pyo.Set(initialize=J)  # team members\n",
        "\n",
        "# Define parameters\n",
        "model.ro = pyo.Param(initialize=ro)  # rent fee for truck\n",
        "model.rn = pyo.Param(initialize=rn)  # rent fee for traverse\n",
        "model.h = pyo.Param(model.I, initialize=h)  # cost of hotel room per night for each show\n",
        "model.p = pyo.Param(model.I, initialize=p)  # Number of nights in the hotel for each show\n",
        "model.q = pyo.Param(model.I, initialize=q)  # entry fee per person for each show\n",
        "model.t = pyo.Param(model.I, initialize=t)  # stalling fee per horse for each show\n",
        "model.g = pyo.Param(initialize=g)  # cost of gas per gallon\n",
        "model.l = pyo.Param(model.I, initialize=l)  # show limit for each show\n",
        "model.a = pyo.Param(model.I, initialize=a)  # miles driven for each show\n",
        "model.k = pyo.Param(model.I, initialize=k)  # number of point riders for each show\n",
        "model.c = pyo.Param(initialize=c)  # Max cost for the season\n",
        "model.do = pyo.Param(initialize=do)  # Miles per gallon for the truck\n",
        "model.dn = pyo.Param(initialize=dn)  # Miles per gallon for the traverse\n",
        "model.x = pyo.Param(model.I, model.J, initialize=x)  # score for each show and team member\n",
        "model.e = pyo.Param(model.J, initialize = e)\n",
        "\n",
        "# Decision Variables\n",
        "model.b = pyo.Var(model.J, model.I, domain=pyo.Binary)  # binary variable for whether a score is included in overall team score\n",
        "model.s = pyo.Var(model.J, model.I, domain=pyo.Binary)  # binary for whether a team member participated in show i\n",
        "model.z = pyo.Var(model.I, domain=pyo.NonNegativeIntegers)  # num of hotel rooms for show i\n",
        "model.f = pyo.Var(model.I, domain=pyo.NonNegativeIntegers)  # num of females in show i\n",
        "model.m = pyo.Var(model.I, domain=pyo.NonNegativeIntegers)  # num of males in show i\n",
        "model.n = pyo.Var(model.I, domain=pyo.NonNegativeIntegers)  # num of traverses for each show\n",
        "model.o = pyo.Var(model.I, domain=pyo.NonNegativeIntegers)  # num of trucks for each show\n",
        "model.y = pyo.Var(model.I, domain=pyo.NonNegativeIntegers)  # number of rooms for males\n",
        "model.w = pyo.Var(model.I, domain=pyo.NonNegativeIntegers)  # number of rooms for females"
      ],
      "metadata": {
        "id": "9VMii6VMSGu4"
      },
      "execution_count": null,
      "outputs": []
    },
    {
      "cell_type": "markdown",
      "source": [
        "### The Model:\n",
        "\n",
        "$$\\text{Maximize: } \\sum_{j = 1}^6\\sum_{i=1}^5 x_{ij}b_{ij} \\quad \\quad \\text{(Overall team score for the season)\n",
        "}$$"
      ],
      "metadata": {
        "id": "kyO0R_w3HZtl"
      }
    },
    {
      "cell_type": "code",
      "source": [
        "# Objective: Maximize total team score\n",
        "model.obj = pyo.Objective(expr=sum(model.x[i, j] * model.b[j, i] for i in model.I for j in model.J), sense=pyo.maximize)"
      ],
      "metadata": {
        "id": "GJ1PmAtQS4oh"
      },
      "execution_count": null,
      "outputs": []
    },
    {
      "cell_type": "markdown",
      "source": [
        "### Constraints:\n",
        "$$\\sum_{i=1}^5s_{ij}\\geq 2 \\quad \\forall j = 1, 2, ..., 6 \\quad \\text{(Minimum show attendance for each team member)}$$\n",
        "\n",
        "$$f_i + m_i = \\sum_{j=1}^6 s_{ij} \\quad \\forall i = 1, 2, ..., 5 \\quad \\text{(maximum show limit)}$$\n",
        "\n",
        "$$f_i + m_i \\leq l_i \\quad \\forall i = 1, 2, ..., 5 \\quad \\text{(maximum show limit)}$$\n",
        "\n",
        "$$f_i = \\sum_{j=1}^6 s_{ij}*e_j \\quad \\forall i = 1, 2, ..., 5 \\quad \\text{(number of female riders)}$$\n",
        "\n",
        "$$w_i \\geq f_i/4  \\quad \\forall i = 1, 2, ..., 5 \\quad \\text{(number of women's hotel rooms)}$$\n",
        "\n",
        "$$m_i = \\sum_{j=1}^6 s_{ij}*(1-e_j) \\quad \\forall i = 1, 2, ..., 5 \\quad \\text{(number of male riders)}$$\n",
        "\n",
        "$$y_i \\geq m_i /4  \\quad \\forall i = 1, 2, ..., 5 \\quad \\text{(number of men's hotel rooms)}$$\n",
        "\n",
        "$$z_i = w_i + y_i + 1  \\quad \\forall i = 1, 2, ..., 5\\quad \\text{(number of total hotel rooms)}$$\n",
        "\n",
        "$$\\sum_{j=1}^6s_{ij} \\leq 5o_i  \\quad \\forall i = 1, 2, ..., 5 \\quad \\text{(number of trucks to rent for the number of horses)}$$\n",
        "\n",
        "$$\\sum_{j=1}^6s_{ij} \\leq 2o_i + 4n_i  \\quad \\forall i = 1, 2, ..., 5 \\quad \\text{(number of vehicles to carry the people)}$$\n",
        "\n",
        "$$\\sum_{j=1}^6b_{ij} = k_i  \\quad \\forall i = 1, 2, ..., 5 \\quad \\text{(choose top k scores for each event)}$$\n",
        "\n",
        "$$b_{ij} \\leq s_{ij}  \\quad \\forall i = 1, 2, ..., 5  \\quad \\forall j = 1, 2, ..., 6 \\quad \\text{(A score can only be counted if a team member participates)}$$\n",
        "\n",
        "$$\\sum_{i=1}^{5}(h_i*z_i*p_i)+\\sum_{i=1}^5(q_i(f_i+m_i))+\\sum_{i=1}^5(t_i(f_i+m_i))+\\sum_{i=1}^5((ro+(a_i/do))o_i+(rn+(a_i/dn))n_i) \\leq c \\quad \\text{(Total cost)}$$"
      ],
      "metadata": {
        "id": "tBAP-qbXsfYh"
      }
    },
    {
      "cell_type": "code",
      "source": [
        "# Constraints\n",
        "# Minimum attendance for each team member\n",
        "model.min_attendance = pyo.ConstraintList()\n",
        "for j in model.J:\n",
        "    model.min_attendance.add(sum(model.s[j, i] for i in model.I) >= 2)\n",
        "\n",
        "# Maximum show limit\n",
        "model.max_show_limit = pyo.ConstraintList()\n",
        "for i in model.I:\n",
        "    model.max_show_limit.add(model.f[i] + model.m[i] == sum(model.s[j, i] for j in model.J))\n",
        "    model.max_show_limit.add(model.f[i] + model.m[i] <= model.l[i])\n",
        "\n",
        "# Count the number of females and males at each show\n",
        "model.gender_count = pyo.ConstraintList()\n",
        "for i in model.I:\n",
        "    # Count females\n",
        "    female_expr = sum(model.s[j, i] * model.e[j] for j in model.J)\n",
        "    model.gender_count.add(model.f[i] == female_expr)\n",
        "\n",
        "    # Count males\n",
        "    male_expr = sum(model.s[j, i] * (1 - model.e[j]) for j in model.J)\n",
        "    model.gender_count.add(model.m[i] == male_expr)\n",
        "\n",
        "# Hotel room constraints\n",
        "model.hotel_constraints = pyo.ConstraintList()\n",
        "for i in model.I:\n",
        "    # Female rooms - max 4 per room\n",
        "    model.hotel_constraints.add(model.w[i] >= model.f[i] / 4)\n",
        "\n",
        "    # Male rooms - max 4 per room\n",
        "    model.hotel_constraints.add(model.y[i] >= model.m[i] / 4)\n",
        "\n",
        "    # Total rooms\n",
        "    model.hotel_constraints.add(model.z[i] == model.w[i] + model.y[i] + 1)\n",
        "\n",
        "\n",
        "# Vehicle constraints\n",
        "model.vehicle_constraints = pyo.ConstraintList()\n",
        "for i in model.I:\n",
        "    # Trucks for horses - each truck can carry 5 horses\n",
        "    model.vehicle_constraints.add(sum(model.s[j, i] for j in model.J) <= 5 * model.o[i])\n",
        "\n",
        "    # People transport - trucks can carry 2 people, traverses can carry 4\n",
        "    model.vehicle_constraints.add(sum(model.s[j, i] for j in model.J) <= 2 * model.o[i] + 4 * model.n[i])\n",
        "\n",
        "# Top k scores constraint\n",
        "model.top_scores = pyo.ConstraintList()\n",
        "for i in model.I:\n",
        "    # Exactly k point riders per show\n",
        "    model.top_scores.add(sum(model.b[j, i] for j in model.J) == model.k[i])\n",
        "\n",
        "    # Can only be a point rider if attending\n",
        "    for j in model.J:\n",
        "        model.top_scores.add(model.b[j, i] <= model.s[j, i])\n",
        "\n",
        "# Total cost constraint\n",
        "gas_truck_cost = sum((model.a[i] / model.do) * model.g * model.o[i] for i in model.I)\n",
        "gas_traverse_cost = sum((model.a[i] / model.dn) * model.g * model.n[i] for i in model.I)\n",
        "rental_truck_cost = sum(model.ro * model.o[i] for i in model.I)\n",
        "rental_traverse_cost = sum(model.rn * model.n[i] for i in model.I)\n",
        "hotel_cost = sum(model.h[i] * model.z[i] * model.p[i] for i in model.I)\n",
        "entry_cost = sum(model.q[i] * sum(model.s[j, i] for j in model.J) for i in model.I)\n",
        "stall_cost = sum(model.t[i] * sum(model.s[j, i] for j in model.J) for i in model.I)\n",
        "\n",
        "total_cost = gas_truck_cost + gas_traverse_cost + rental_truck_cost + rental_traverse_cost + hotel_cost + entry_cost + stall_cost\n",
        "model.cost_constraint = pyo.Constraint(expr=total_cost <= model.c)\n"
      ],
      "metadata": {
        "id": "Ovs8wc_60wOe"
      },
      "execution_count": null,
      "outputs": []
    },
    {
      "cell_type": "code",
      "source": [
        "# Solve the model\n",
        "!apt-get install -y glpk-utils\n",
        "import pyomo.environ as pyo\n",
        "solver = pyo.SolverFactory('glpk', executable='/usr/bin/glpsol')\n",
        "result = solver.solve(model)"
      ],
      "metadata": {
        "colab": {
          "base_uri": "https://localhost:8080/"
        },
        "id": "Dru5Tmd_70_a",
        "outputId": "0ae74afd-5146-4383-eb6c-e9e4c496a53c"
      },
      "execution_count": null,
      "outputs": [
        {
          "output_type": "stream",
          "name": "stdout",
          "text": [
            "Reading package lists... Done\n",
            "Building dependency tree... Done\n",
            "Reading state information... Done\n",
            "glpk-utils is already the newest version (5.0-1).\n",
            "0 upgraded, 0 newly installed, 0 to remove and 30 not upgraded.\n"
          ]
        }
      ]
    },
    {
      "cell_type": "code",
      "source": [
        "# Print solution\n",
        "print(\"\\nOptimized Team Schedule\")\n",
        "print(\"=\" * 50)\n",
        "print(f\"Total Team Score: {pyo.value(model.obj):.0f} points\")\n",
        "print(f\"Total Cost: ${pyo.value(total_cost):.2f} of ${model.c} budget\")\n",
        "print(\"=\" * 50)\n",
        "\n",
        "# Show details for each show\n",
        "for i in model.I:\n",
        "    show_cost = (\n",
        "        model.h[i] * pyo.value(model.z[i]) +\n",
        "        model.q[i] * sum(pyo.value(model.s[j, i]) for j in model.J) +\n",
        "        model.t[i] * sum(pyo.value(model.s[j, i]) for j in model.J) +\n",
        "        (model.ro + (model.a[i] / model.do) * model.g) * pyo.value(model.o[i]) +\n",
        "        (model.rn + (model.a[i] / model.dn) * model.g) * pyo.value(model.n[i])\n",
        "    )\n",
        "\n",
        "    print(f\"\\nShow: {show_names[i]}\")\n",
        "    print(f\"  Total Attendees: {sum(pyo.value(model.s[j, i]) for j in model.J):.0f} of {model.l[i]} max\")\n",
        "    print(f\"  Vehicles: {pyo.value(model.o[i]):.0f} trucks, {pyo.value(model.n[i]):.0f} traverses\")\n",
        "    print(f\"  Hotel Rooms: {pyo.value(model.z[i]):.0f} total ({pyo.value(model.w[i]):.0f} female, {pyo.value(model.y[i]):.0f} male, 1 coach)\")\n",
        "    print(f\"  Show Cost: ${show_cost:.2f}\")\n",
        "\n",
        "    show_score = 0\n",
        "    print(\"\\n  Team Members:\")\n",
        "    for j in model.J:\n",
        "        if pyo.value(model.s[j, i]) > 0.5:  # Using 0.5 threshold due to potential floating point issues\n",
        "            status = \"Point Rider\" if pyo.value(model.b[j, i]) > 0.5 else \"Non-Point Rider\"\n",
        "            rider_score = model.x[i, j] if pyo.value(model.b[j, i]) > 0.5 else 0\n",
        "            show_score += rider_score\n",
        "            print(f\"    {rider_names[j]}: {status}, Score: {rider_score if rider_score > 0 else 'N/A'}\")\n",
        "\n",
        "    print(f\"\\n  Show Team Score: {show_score:.0f}\")\n",
        "\n",
        "# Team member participation summary\n",
        "print(\"\\nTeam Member Participation Summary:\")\n",
        "for j in model.J:\n",
        "    shows_attended = [show_names[i] for i in model.I if pyo.value(model.s[j, i]) > 0.5]\n",
        "    point_shows = [show_names[i] for i in model.I if pyo.value(model.b[j, i]) > 0.5]\n",
        "    total_points = sum(model.x[i, j] * pyo.value(model.b[j, i]) for i in model.I)\n",
        "\n",
        "    print(f\"\\n{rider_names[j]}:\")\n",
        "    print(f\"  Shows Attended: {len(shows_attended)} ({', '.join(shows_attended)})\")\n",
        "    print(f\"  Point Rider At: {len(point_shows)} shows\")\n",
        "    print(f\"  Total Points Contributed: {total_points:.0f}\")"
      ],
      "metadata": {
        "colab": {
          "base_uri": "https://localhost:8080/"
        },
        "id": "4_lVdvcZQfeH",
        "outputId": "eab680b0-d3d6-4a51-977a-5179160736ba"
      },
      "execution_count": null,
      "outputs": [
        {
          "output_type": "stream",
          "name": "stdout",
          "text": [
            "\n",
            "Optimized Team Schedule\n",
            "==================================================\n",
            "Total Team Score: 5163 points\n",
            "Total Cost: $16026.03 of $c budget\n",
            "==================================================\n",
            "\n",
            "Show: SHTX Bryan\n",
            "  Total Attendees: 5 of 6 max\n",
            "  Vehicles: 1 trucks, 1 traverses\n",
            "  Hotel Rooms: 3 total (2 female, 0 male, 1 coach)\n",
            "  Show Cost: $2242.97\n",
            "\n",
            "  Team Members:\n",
            "    Jordan: Point Rider, Score: 289\n",
            "    Justine: Point Rider, Score: 281\n",
            "    Kate: Point Rider, Score: 291\n",
            "    Carson: Non-Point Rider, Score: N/A\n",
            "    Morgan: Point Rider, Score: 281\n",
            "\n",
            "  Show Team Score: 1142\n",
            "\n",
            "Show: SHTX World\n",
            "  Total Attendees: 5 of 6 max\n",
            "  Vehicles: 1 trucks, 1 traverses\n",
            "  Hotel Rooms: 3 total (1 female, 1 male, 1 coach)\n",
            "  Show Cost: $1970.11\n",
            "\n",
            "  Team Members:\n",
            "    Jordan: Point Rider, Score: 289\n",
            "    Justine: Point Rider, Score: 281\n",
            "    Kate: Point Rider, Score: 291\n",
            "    Alex: Non-Point Rider, Score: N/A\n",
            "    Morgan: Point Rider, Score: 281\n",
            "\n",
            "  Show Team Score: 1142\n",
            "\n",
            "Show: NRCHA\n",
            "  Total Attendees: 3 of 3 max\n",
            "  Vehicles: 2 trucks, 0 traverses\n",
            "  Hotel Rooms: 2 total (1 female, 0 male, 1 coach)\n",
            "  Show Cost: $2140.50\n",
            "\n",
            "  Team Members:\n",
            "    Jordan: Point Rider, Score: 145\n",
            "    Justine: Point Rider, Score: 137\n",
            "    Kate: Point Rider, Score: 145\n",
            "\n",
            "  Show Team Score: 427\n",
            "\n",
            "Show: Bridles and Brains\n",
            "  Total Attendees: 4 of 4 max\n",
            "  Vehicles: 1 trucks, 1 traverses\n",
            "  Hotel Rooms: 2 total (1 female, 0 male, 1 coach)\n",
            "  Show Cost: $1535.36\n",
            "\n",
            "  Team Members:\n",
            "    Jordan: Point Rider, Score: 331\n",
            "    Justine: Point Rider, Score: 338\n",
            "    Kate: Point Rider, Score: 325\n",
            "    Carson: Point Rider, Score: 316\n",
            "\n",
            "  Show Team Score: 1310\n",
            "\n",
            "Show: NIRSHA\n",
            "  Total Attendees: 5 of 6 max\n",
            "  Vehicles: 1 trucks, 1 traverses\n",
            "  Hotel Rooms: 3 total (1 female, 1 male, 1 coach)\n",
            "  Show Cost: $2077.08\n",
            "\n",
            "  Team Members:\n",
            "    Jordan: Point Rider, Score: 289\n",
            "    Justine: Point Rider, Score: 281\n",
            "    Kate: Point Rider, Score: 291\n",
            "    Alex: Non-Point Rider, Score: N/A\n",
            "    Morgan: Point Rider, Score: 281\n",
            "\n",
            "  Show Team Score: 1142\n",
            "\n",
            "Team Member Participation Summary:\n",
            "\n",
            "Jordan:\n",
            "  Shows Attended: 5 (SHTX Bryan, SHTX World, NRCHA, Bridles and Brains, NIRSHA)\n",
            "  Point Rider At: 5 shows\n",
            "  Total Points Contributed: 1343\n",
            "\n",
            "Justine:\n",
            "  Shows Attended: 5 (SHTX Bryan, SHTX World, NRCHA, Bridles and Brains, NIRSHA)\n",
            "  Point Rider At: 5 shows\n",
            "  Total Points Contributed: 1318\n",
            "\n",
            "Kate:\n",
            "  Shows Attended: 5 (SHTX Bryan, SHTX World, NRCHA, Bridles and Brains, NIRSHA)\n",
            "  Point Rider At: 5 shows\n",
            "  Total Points Contributed: 1343\n",
            "\n",
            "Alex:\n",
            "  Shows Attended: 2 (SHTX World, NIRSHA)\n",
            "  Point Rider At: 0 shows\n",
            "  Total Points Contributed: 0\n",
            "\n",
            "Carson:\n",
            "  Shows Attended: 2 (SHTX Bryan, Bridles and Brains)\n",
            "  Point Rider At: 1 shows\n",
            "  Total Points Contributed: 316\n",
            "\n",
            "Morgan:\n",
            "  Shows Attended: 3 (SHTX Bryan, SHTX World, NIRSHA)\n",
            "  Point Rider At: 3 shows\n",
            "  Total Points Contributed: 843\n"
          ]
        }
      ]
    }
  ]
}